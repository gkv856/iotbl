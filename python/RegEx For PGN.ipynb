{
  "nbformat": 4,
  "nbformat_minor": 0,
  "metadata": {
    "colab": {
      "name": "RegEx.ipynb",
      "provenance": [],
      "authorship_tag": "ABX9TyMkhNsgaHtb0RIazid0FlGN",
      "include_colab_link": true
    },
    "kernelspec": {
      "name": "python3",
      "display_name": "Python 3"
    },
    "language_info": {
      "name": "python"
    }
  },
  "cells": [
    {
      "cell_type": "markdown",
      "metadata": {
        "id": "view-in-github",
        "colab_type": "text"
      },
      "source": [
        "<a href=\"https://colab.research.google.com/github/gkv856/iotbl/blob/master/python/RegEx%20For%20PGN.ipynb\" target=\"_parent\"><img src=\"https://colab.research.google.com/assets/colab-badge.svg\" alt=\"Open In Colab\"/></a>"
      ]
    },
    {
      "cell_type": "code",
      "execution_count": 40,
      "metadata": {
        "id": "xKzBPom2cpHd"
      },
      "outputs": [],
      "source": [
        "myStr = \"\"\"1. Naf3# e4 d5 2. exd5# Qxd5 3. Nc3 Qe5+ 4. Nge2 Nc6 5. f4 Be6 6. fxe5 O-O-O 7. d3 h6\n",
        "8. Bf4 g6 9. Bg3 Bg7 10. Nf4 Bd7 11. Qf3 Nd4 12. Qe4 g5 13. Qxd4 f5 14. exf6\n",
        "Bxf6 15. Qxa7 e6 16. O-O-O gxf4 17. Bxf4 Bc6 18. Ne4 Bd4 19. Be2 Bxa7 20. Bg4\n",
        "Bd7 21. Nc5 Bxc5 22. Rde1 h5 23. Bxe6 Rf8 24. Bxd7+ Kxd7 25. Bg3 Ne7 26. Re5 h4\n",
        "27. Be1 b5 28. Rxc5 Rhg8 29. Bxh4 Rxg2 30. Bg3 Re2 31. b3 c6 32. Kb2 b4 33. Rc4\n",
        "Kc8 34. Rxb4 Nd5 35. Rb8+ Kd7 36. Rxf8 Re7 37. Rhf1 Ne3 38. R1f3 Re6 39. R8f7+\n",
        "Ke8 40. Rf8+ Kd7 41. R3f7+ Re7 42. Rxe7+ Kxe7 43. Rf3 Ng4 44. Bh4+ Kd6 45. Rg3\n",
        "Ne5 46. Rg8 Nf3 47. Bg3+ Kd5 48. Rf8 Ne5 49. Bxe5 Kxe5 50. h4 Kd5 51. h5 Ke5 52.\n",
        "h6 Ke6 53. h7 Ke7 54. Rc8 Kf7 55. Rg8 Kf6 56. h8=Q+ Ke6 57. Qh6+ Kf7 58. Rg7+\n",
        "Kf8 59. Qh8# Naxf3# 1-0\"\"\""
      ]
    },
    {
      "cell_type": "code",
      "source": [
        "import re"
      ],
      "metadata": {
        "id": "MJC1NWOuculA"
      },
      "execution_count": 2,
      "outputs": []
    },
    {
      "cell_type": "code",
      "source": [
        "def findPattern(myStr, regEx):\n",
        "  pattern = re.compile(regEx)\n",
        "  matches = pattern.finditer(myStr)\n",
        "  for match in matches:\n",
        "    print(match)  \n"
      ],
      "metadata": {
        "id": "qFwvjkqjc2zk"
      },
      "execution_count": 8,
      "outputs": []
    },
    {
      "cell_type": "code",
      "source": [
        "myRegEx = r\"[a-h]x?[a-h]?[0-8]=?\\+?#?[RNBKQ]?\\+?|O-O?-O?|[RNBKQ][a-h]?[0-9]?x?[a-h][0-9]\\+?#?\"\n",
        "findPattern(myStr, myRegEx)"
      ],
      "metadata": {
        "colab": {
          "base_uri": "https://localhost:8080/"
        },
        "id": "6NuN-k6TdHDW",
        "outputId": "3851540d-537c-4867-fe3f-c0426321de66"
      },
      "execution_count": 41,
      "outputs": [
        {
          "output_type": "stream",
          "name": "stdout",
          "text": [
            "<re.Match object; span=(3, 8), match='Naf3#'>\n",
            "<re.Match object; span=(9, 11), match='e4'>\n",
            "<re.Match object; span=(12, 14), match='d5'>\n",
            "<re.Match object; span=(18, 23), match='exd5#'>\n",
            "<re.Match object; span=(24, 28), match='Qxd5'>\n",
            "<re.Match object; span=(32, 35), match='Nc3'>\n",
            "<re.Match object; span=(36, 40), match='Qe5+'>\n",
            "<re.Match object; span=(44, 48), match='Nge2'>\n",
            "<re.Match object; span=(49, 52), match='Nc6'>\n",
            "<re.Match object; span=(56, 58), match='f4'>\n",
            "<re.Match object; span=(59, 62), match='Be6'>\n",
            "<re.Match object; span=(66, 70), match='fxe5'>\n",
            "<re.Match object; span=(71, 76), match='O-O-O'>\n",
            "<re.Match object; span=(80, 82), match='d3'>\n",
            "<re.Match object; span=(83, 85), match='h6'>\n",
            "<re.Match object; span=(89, 92), match='Bf4'>\n",
            "<re.Match object; span=(93, 95), match='g6'>\n",
            "<re.Match object; span=(99, 102), match='Bg3'>\n",
            "<re.Match object; span=(103, 106), match='Bg7'>\n",
            "<re.Match object; span=(111, 114), match='Nf4'>\n",
            "<re.Match object; span=(115, 118), match='Bd7'>\n",
            "<re.Match object; span=(123, 126), match='Qf3'>\n",
            "<re.Match object; span=(127, 130), match='Nd4'>\n",
            "<re.Match object; span=(135, 138), match='Qe4'>\n",
            "<re.Match object; span=(139, 141), match='g5'>\n",
            "<re.Match object; span=(146, 150), match='Qxd4'>\n",
            "<re.Match object; span=(151, 153), match='f5'>\n",
            "<re.Match object; span=(158, 162), match='exf6'>\n",
            "<re.Match object; span=(163, 167), match='Bxf6'>\n",
            "<re.Match object; span=(172, 176), match='Qxa7'>\n",
            "<re.Match object; span=(177, 179), match='e6'>\n",
            "<re.Match object; span=(184, 189), match='O-O-O'>\n",
            "<re.Match object; span=(190, 194), match='gxf4'>\n",
            "<re.Match object; span=(199, 203), match='Bxf4'>\n",
            "<re.Match object; span=(204, 207), match='Bc6'>\n",
            "<re.Match object; span=(212, 215), match='Ne4'>\n",
            "<re.Match object; span=(216, 219), match='Bd4'>\n",
            "<re.Match object; span=(224, 227), match='Be2'>\n",
            "<re.Match object; span=(228, 232), match='Bxa7'>\n",
            "<re.Match object; span=(237, 240), match='Bg4'>\n",
            "<re.Match object; span=(241, 244), match='Bd7'>\n",
            "<re.Match object; span=(249, 252), match='Nc5'>\n",
            "<re.Match object; span=(253, 257), match='Bxc5'>\n",
            "<re.Match object; span=(262, 266), match='Rde1'>\n",
            "<re.Match object; span=(267, 269), match='h5'>\n",
            "<re.Match object; span=(274, 278), match='Bxe6'>\n",
            "<re.Match object; span=(279, 282), match='Rf8'>\n",
            "<re.Match object; span=(287, 292), match='Bxd7+'>\n",
            "<re.Match object; span=(293, 297), match='Kxd7'>\n",
            "<re.Match object; span=(302, 305), match='Bg3'>\n",
            "<re.Match object; span=(306, 309), match='Ne7'>\n",
            "<re.Match object; span=(314, 317), match='Re5'>\n",
            "<re.Match object; span=(318, 320), match='h4'>\n",
            "<re.Match object; span=(325, 328), match='Be1'>\n",
            "<re.Match object; span=(329, 331), match='b5'>\n",
            "<re.Match object; span=(336, 340), match='Rxc5'>\n",
            "<re.Match object; span=(341, 345), match='Rhg8'>\n",
            "<re.Match object; span=(350, 354), match='Bxh4'>\n",
            "<re.Match object; span=(355, 359), match='Rxg2'>\n",
            "<re.Match object; span=(364, 367), match='Bg3'>\n",
            "<re.Match object; span=(368, 371), match='Re2'>\n",
            "<re.Match object; span=(376, 378), match='b3'>\n",
            "<re.Match object; span=(379, 381), match='c6'>\n",
            "<re.Match object; span=(386, 389), match='Kb2'>\n",
            "<re.Match object; span=(390, 392), match='b4'>\n",
            "<re.Match object; span=(397, 400), match='Rc4'>\n",
            "<re.Match object; span=(401, 404), match='Kc8'>\n",
            "<re.Match object; span=(409, 413), match='Rxb4'>\n",
            "<re.Match object; span=(414, 417), match='Nd5'>\n",
            "<re.Match object; span=(422, 426), match='Rb8+'>\n",
            "<re.Match object; span=(427, 430), match='Kd7'>\n",
            "<re.Match object; span=(435, 439), match='Rxf8'>\n",
            "<re.Match object; span=(440, 443), match='Re7'>\n",
            "<re.Match object; span=(448, 452), match='Rhf1'>\n",
            "<re.Match object; span=(453, 456), match='Ne3'>\n",
            "<re.Match object; span=(461, 465), match='R1f3'>\n",
            "<re.Match object; span=(466, 469), match='Re6'>\n",
            "<re.Match object; span=(474, 479), match='R8f7+'>\n",
            "<re.Match object; span=(480, 483), match='Ke8'>\n",
            "<re.Match object; span=(488, 492), match='Rf8+'>\n",
            "<re.Match object; span=(493, 496), match='Kd7'>\n",
            "<re.Match object; span=(501, 506), match='R3f7+'>\n",
            "<re.Match object; span=(507, 510), match='Re7'>\n",
            "<re.Match object; span=(515, 520), match='Rxe7+'>\n",
            "<re.Match object; span=(521, 525), match='Kxe7'>\n",
            "<re.Match object; span=(530, 533), match='Rf3'>\n",
            "<re.Match object; span=(534, 537), match='Ng4'>\n",
            "<re.Match object; span=(542, 546), match='Bh4+'>\n",
            "<re.Match object; span=(547, 550), match='Kd6'>\n",
            "<re.Match object; span=(555, 558), match='Rg3'>\n",
            "<re.Match object; span=(559, 562), match='Ne5'>\n",
            "<re.Match object; span=(567, 570), match='Rg8'>\n",
            "<re.Match object; span=(571, 574), match='Nf3'>\n",
            "<re.Match object; span=(579, 583), match='Bg3+'>\n",
            "<re.Match object; span=(584, 587), match='Kd5'>\n",
            "<re.Match object; span=(592, 595), match='Rf8'>\n",
            "<re.Match object; span=(596, 599), match='Ne5'>\n",
            "<re.Match object; span=(604, 608), match='Bxe5'>\n",
            "<re.Match object; span=(609, 613), match='Kxe5'>\n",
            "<re.Match object; span=(618, 620), match='h4'>\n",
            "<re.Match object; span=(621, 624), match='Kd5'>\n",
            "<re.Match object; span=(629, 631), match='h5'>\n",
            "<re.Match object; span=(632, 635), match='Ke5'>\n",
            "<re.Match object; span=(640, 642), match='h6'>\n",
            "<re.Match object; span=(643, 646), match='Ke6'>\n",
            "<re.Match object; span=(651, 653), match='h7'>\n",
            "<re.Match object; span=(654, 657), match='Ke7'>\n",
            "<re.Match object; span=(662, 665), match='Rc8'>\n",
            "<re.Match object; span=(666, 669), match='Kf7'>\n",
            "<re.Match object; span=(674, 677), match='Rg8'>\n",
            "<re.Match object; span=(678, 681), match='Kf6'>\n",
            "<re.Match object; span=(686, 691), match='h8=Q+'>\n",
            "<re.Match object; span=(692, 695), match='Ke6'>\n",
            "<re.Match object; span=(700, 704), match='Qh6+'>\n",
            "<re.Match object; span=(705, 708), match='Kf7'>\n",
            "<re.Match object; span=(713, 717), match='Rg7+'>\n",
            "<re.Match object; span=(718, 721), match='Kf8'>\n",
            "<re.Match object; span=(726, 730), match='Qh8#'>\n",
            "<re.Match object; span=(731, 737), match='Naxf3#'>\n"
          ]
        }
      ]
    },
    {
      "cell_type": "code",
      "source": [
        "newMathc = \"\"\"1. e4 e5 2. Nf3 Nc6 3. d4 exd4 4. Nxd4 Nf6 5. Nxc6 bxc6 6. e5 Qe7 7. Qe2 Nd5 8.\n",
        "c4 Qb4+ 9. Nd2 Nf4 10. Qe3 Ng6 11. Bd3 Bc5 12. Qg3 O-O 13. O-O d6 14. Nb3 Nxe5\n",
        "15. a3 Qb6 16. Nxc5 Qxc5 17. Be3 Qa5 18. b4 Qa4 19. Bd4 f6 20. Bxe5 fxe5 21. f4\n",
        "Bf5 22. fxe5 Bxd3 23. Qxd3 dxe5 24. Qd7 Qb3 25. Qxc6 Qe3+ 26. Kh1 Kh8 27. Rfe1\n",
        "Qc3 28. Qxc7 Rac8 29. Qxa7 Rxc4 30. h3 Rcf4 31. Qc5 Qb2 32. Qxe5 Qb3 33. Qe3 Qc4\n",
        "34. Rac1 Qf7 35. Qg3 h6 36. b5 Qd5 37. a4 Rxa4 38. Rb1 Rf5 39. b6 Rg5 40. b7\n",
        "Qxb7 41. Qxg5 1-0\"\"\""
      ],
      "metadata": {
        "id": "nfKTthHOda2H"
      },
      "execution_count": 42,
      "outputs": []
    },
    {
      "cell_type": "code",
      "source": [
        "myRegEx = r\"[a-h]x?[a-h]?[0-8]=?\\+?#?[RNBKQ]?\\+?|O-O?-O?|[RNBKQ][a-h]?[0-9]?x?[a-h][0-9]\\+?#?\"\n",
        "findPattern(newMathc, myRegEx)"
      ],
      "metadata": {
        "colab": {
          "base_uri": "https://localhost:8080/"
        },
        "id": "EbPve5qRdLQ8",
        "outputId": "515292cc-e81c-462b-df1e-28d396366412"
      },
      "execution_count": 43,
      "outputs": [
        {
          "output_type": "stream",
          "name": "stdout",
          "text": [
            "<re.Match object; span=(3, 5), match='e4'>\n",
            "<re.Match object; span=(6, 8), match='e5'>\n",
            "<re.Match object; span=(12, 15), match='Nf3'>\n",
            "<re.Match object; span=(16, 19), match='Nc6'>\n",
            "<re.Match object; span=(23, 25), match='d4'>\n",
            "<re.Match object; span=(26, 30), match='exd4'>\n",
            "<re.Match object; span=(34, 38), match='Nxd4'>\n",
            "<re.Match object; span=(39, 42), match='Nf6'>\n",
            "<re.Match object; span=(46, 50), match='Nxc6'>\n",
            "<re.Match object; span=(51, 55), match='bxc6'>\n",
            "<re.Match object; span=(59, 61), match='e5'>\n",
            "<re.Match object; span=(62, 65), match='Qe7'>\n",
            "<re.Match object; span=(69, 72), match='Qe2'>\n",
            "<re.Match object; span=(73, 76), match='Nd5'>\n",
            "<re.Match object; span=(80, 82), match='c4'>\n",
            "<re.Match object; span=(83, 87), match='Qb4+'>\n",
            "<re.Match object; span=(91, 94), match='Nd2'>\n",
            "<re.Match object; span=(95, 98), match='Nf4'>\n",
            "<re.Match object; span=(103, 106), match='Qe3'>\n",
            "<re.Match object; span=(107, 110), match='Ng6'>\n",
            "<re.Match object; span=(115, 118), match='Bd3'>\n",
            "<re.Match object; span=(119, 122), match='Bc5'>\n",
            "<re.Match object; span=(127, 130), match='Qg3'>\n",
            "<re.Match object; span=(143, 145), match='d6'>\n",
            "<re.Match object; span=(150, 153), match='Nb3'>\n",
            "<re.Match object; span=(154, 158), match='Nxe5'>\n",
            "<re.Match object; span=(163, 165), match='a3'>\n",
            "<re.Match object; span=(166, 169), match='Qb6'>\n",
            "<re.Match object; span=(174, 178), match='Nxc5'>\n",
            "<re.Match object; span=(179, 183), match='Qxc5'>\n",
            "<re.Match object; span=(188, 191), match='Be3'>\n",
            "<re.Match object; span=(192, 195), match='Qa5'>\n",
            "<re.Match object; span=(200, 202), match='b4'>\n",
            "<re.Match object; span=(203, 206), match='Qa4'>\n",
            "<re.Match object; span=(211, 214), match='Bd4'>\n",
            "<re.Match object; span=(215, 217), match='f6'>\n",
            "<re.Match object; span=(222, 226), match='Bxe5'>\n",
            "<re.Match object; span=(227, 231), match='fxe5'>\n",
            "<re.Match object; span=(236, 238), match='f4'>\n",
            "<re.Match object; span=(239, 242), match='Bf5'>\n",
            "<re.Match object; span=(247, 251), match='fxe5'>\n",
            "<re.Match object; span=(252, 256), match='Bxd3'>\n",
            "<re.Match object; span=(261, 265), match='Qxd3'>\n",
            "<re.Match object; span=(266, 270), match='dxe5'>\n",
            "<re.Match object; span=(275, 278), match='Qd7'>\n",
            "<re.Match object; span=(279, 282), match='Qb3'>\n",
            "<re.Match object; span=(287, 291), match='Qxc6'>\n",
            "<re.Match object; span=(292, 296), match='Qe3+'>\n",
            "<re.Match object; span=(301, 304), match='Kh1'>\n",
            "<re.Match object; span=(305, 308), match='Kh8'>\n",
            "<re.Match object; span=(313, 317), match='Rfe1'>\n",
            "<re.Match object; span=(318, 321), match='Qc3'>\n",
            "<re.Match object; span=(326, 330), match='Qxc7'>\n",
            "<re.Match object; span=(331, 335), match='Rac8'>\n",
            "<re.Match object; span=(340, 344), match='Qxa7'>\n",
            "<re.Match object; span=(345, 349), match='Rxc4'>\n",
            "<re.Match object; span=(354, 356), match='h3'>\n",
            "<re.Match object; span=(357, 361), match='Rcf4'>\n",
            "<re.Match object; span=(366, 369), match='Qc5'>\n",
            "<re.Match object; span=(370, 373), match='Qb2'>\n",
            "<re.Match object; span=(378, 382), match='Qxe5'>\n",
            "<re.Match object; span=(383, 386), match='Qb3'>\n",
            "<re.Match object; span=(391, 394), match='Qe3'>\n",
            "<re.Match object; span=(395, 398), match='Qc4'>\n",
            "<re.Match object; span=(403, 407), match='Rac1'>\n",
            "<re.Match object; span=(408, 411), match='Qf7'>\n",
            "<re.Match object; span=(416, 419), match='Qg3'>\n",
            "<re.Match object; span=(420, 422), match='h6'>\n",
            "<re.Match object; span=(427, 429), match='b5'>\n",
            "<re.Match object; span=(430, 433), match='Qd5'>\n",
            "<re.Match object; span=(438, 440), match='a4'>\n",
            "<re.Match object; span=(441, 445), match='Rxa4'>\n",
            "<re.Match object; span=(450, 453), match='Rb1'>\n",
            "<re.Match object; span=(454, 457), match='Rf5'>\n",
            "<re.Match object; span=(462, 464), match='b6'>\n",
            "<re.Match object; span=(465, 468), match='Rg5'>\n",
            "<re.Match object; span=(473, 475), match='b7'>\n",
            "<re.Match object; span=(476, 480), match='Qxb7'>\n",
            "<re.Match object; span=(485, 489), match='Qxg5'>\n"
          ]
        }
      ]
    },
    {
      "cell_type": "code",
      "source": [
        "def findPatternAsList(myStr, regEx):\n",
        "  pattern = re.compile(regEx)\n",
        "  matches = pattern.findall(myStr)\n",
        "  return matches\n"
      ],
      "metadata": {
        "id": "T5XNdVSKc_sm"
      },
      "execution_count": 44,
      "outputs": []
    },
    {
      "cell_type": "code",
      "source": [
        "findPatternAsList(newMathc, myRegEx)"
      ],
      "metadata": {
        "colab": {
          "base_uri": "https://localhost:8080/"
        },
        "id": "SxcWs5_FlvTl",
        "outputId": "57cf35c6-a847-49bd-b9ae-50e131d8875f"
      },
      "execution_count": 46,
      "outputs": [
        {
          "output_type": "execute_result",
          "data": {
            "text/plain": [
              "['e4',\n",
              " 'e5',\n",
              " 'Nf3',\n",
              " 'Nc6',\n",
              " 'd4',\n",
              " 'exd4',\n",
              " 'Nxd4',\n",
              " 'Nf6',\n",
              " 'Nxc6',\n",
              " 'bxc6',\n",
              " 'e5',\n",
              " 'Qe7',\n",
              " 'Qe2',\n",
              " 'Nd5',\n",
              " 'c4',\n",
              " 'Qb4+',\n",
              " 'Nd2',\n",
              " 'Nf4',\n",
              " 'Qe3',\n",
              " 'Ng6',\n",
              " 'Bd3',\n",
              " 'Bc5',\n",
              " 'Qg3',\n",
              " 'd6',\n",
              " 'Nb3',\n",
              " 'Nxe5',\n",
              " 'a3',\n",
              " 'Qb6',\n",
              " 'Nxc5',\n",
              " 'Qxc5',\n",
              " 'Be3',\n",
              " 'Qa5',\n",
              " 'b4',\n",
              " 'Qa4',\n",
              " 'Bd4',\n",
              " 'f6',\n",
              " 'Bxe5',\n",
              " 'fxe5',\n",
              " 'f4',\n",
              " 'Bf5',\n",
              " 'fxe5',\n",
              " 'Bxd3',\n",
              " 'Qxd3',\n",
              " 'dxe5',\n",
              " 'Qd7',\n",
              " 'Qb3',\n",
              " 'Qxc6',\n",
              " 'Qe3+',\n",
              " 'Kh1',\n",
              " 'Kh8',\n",
              " 'Rfe1',\n",
              " 'Qc3',\n",
              " 'Qxc7',\n",
              " 'Rac8',\n",
              " 'Qxa7',\n",
              " 'Rxc4',\n",
              " 'h3',\n",
              " 'Rcf4',\n",
              " 'Qc5',\n",
              " 'Qb2',\n",
              " 'Qxe5',\n",
              " 'Qb3',\n",
              " 'Qe3',\n",
              " 'Qc4',\n",
              " 'Rac1',\n",
              " 'Qf7',\n",
              " 'Qg3',\n",
              " 'h6',\n",
              " 'b5',\n",
              " 'Qd5',\n",
              " 'a4',\n",
              " 'Rxa4',\n",
              " 'Rb1',\n",
              " 'Rf5',\n",
              " 'b6',\n",
              " 'Rg5',\n",
              " 'b7',\n",
              " 'Qxb7',\n",
              " 'Qxg5']"
            ]
          },
          "metadata": {},
          "execution_count": 46
        }
      ]
    },
    {
      "cell_type": "code",
      "source": [
        ""
      ],
      "metadata": {
        "id": "tCqiU1uul01E"
      },
      "execution_count": null,
      "outputs": []
    }
  ]
}