{
  "nbformat": 4,
  "nbformat_minor": 0,
  "metadata": {
    "colab": {
      "name": "FancyPython.ipynb",
      "provenance": [],
      "authorship_tag": "ABX9TyPPoHjLU6sbR+zq4hE1/zkE",
      "include_colab_link": true
    },
    "kernelspec": {
      "name": "python3",
      "display_name": "Python 3"
    },
    "language_info": {
      "name": "python"
    }
  },
  "cells": [
    {
      "cell_type": "markdown",
      "metadata": {
        "id": "view-in-github",
        "colab_type": "text"
      },
      "source": [
        "<a href=\"https://colab.research.google.com/github/gkv856/iotbl/blob/main/python/FancyPython.ipynb\" target=\"_parent\"><img src=\"https://colab.research.google.com/assets/colab-badge.svg\" alt=\"Open In Colab\"/></a>"
      ]
    },
    {
      "cell_type": "markdown",
      "source": [
        "# 1. If-Else Statement"
      ],
      "metadata": {
        "id": "irZ9aUAtHWq1"
      }
    },
    {
      "cell_type": "code",
      "execution_count": 7,
      "metadata": {
        "colab": {
          "base_uri": "https://localhost:8080/"
        },
        "id": "tz9h2rivHTK6",
        "outputId": "2f695453-2b61-4d6b-c604-e2e5a366741d"
      },
      "outputs": [
        {
          "output_type": "stream",
          "name": "stdout",
          "text": [
            "You're an adult\n"
          ]
        }
      ],
      "source": [
        "age = 18\n",
        "valid = \"You're an adult\"\n",
        "inValid = \"You're NOT an adult\"\n",
        "\n",
        "print(valid) if age >= 18 else print(inValid)"
      ]
    },
    {
      "cell_type": "markdown",
      "source": [
        "# 2. Create a list based on existing lists\n",
        "\n",
        "```\n",
        "# Concept: `[expression for item in list]`\n",
        "```"
      ],
      "metadata": {
        "id": "DXT-Ge7CHaOj"
      }
    },
    {
      "cell_type": "code",
      "source": [
        "words = ['united states', 'brazil', 'united kingdom']\n",
        "\n",
        "capitalList = [word.title() for word in words]\n",
        "print(capitalList)"
      ],
      "metadata": {
        "colab": {
          "base_uri": "https://localhost:8080/"
        },
        "id": "0Ku3pSAHHZrq",
        "outputId": "26fc84af-0d23-40f2-91df-62eb018b0579"
      },
      "execution_count": 8,
      "outputs": [
        {
          "output_type": "stream",
          "name": "stdout",
          "text": [
            "['United States', 'Brazil', 'United Kingdom']\n"
          ]
        }
      ]
    },
    {
      "cell_type": "markdown",
      "source": [
        "# 3. Dictionary Comprehension\n",
        "\n",
        "```\n",
        "Concept: `{key: value for key, value in iterable}`\n",
        "```"
      ],
      "metadata": {
        "id": "w3PcGU-EHgBs"
      }
    },
    {
      "cell_type": "code",
      "source": [
        "dict_numbers = {f\"key_sq_{x}\":x*x for x in range(1,6) }\n",
        "print(dict_numbers)"
      ],
      "metadata": {
        "colab": {
          "base_uri": "https://localhost:8080/"
        },
        "id": "LOetxsqxHeWk",
        "outputId": "39e6af5f-518c-4b45-9a22-5f652f7ccf0f"
      },
      "execution_count": 9,
      "outputs": [
        {
          "output_type": "stream",
          "name": "stdout",
          "text": [
            "{'key_sq_1': 1, 'key_sq_2': 4, 'key_sq_3': 9, 'key_sq_4': 16, 'key_sq_5': 25}\n"
          ]
        }
      ]
    },
    {
      "cell_type": "markdown",
      "source": [
        "# 4. Join Dictionaries"
      ],
      "metadata": {
        "id": "9H5LjjN5HlbD"
      }
    },
    {
      "cell_type": "code",
      "source": [
        "dict_1 = {'a': 1, 'b': 2}\n",
        "dict_2 = {'c': 3, 'd': 4}\n",
        "\n",
        "merger_dict = {**dict_1, **dict_2}\n",
        "print(merger_dict)"
      ],
      "metadata": {
        "colab": {
          "base_uri": "https://localhost:8080/"
        },
        "id": "w88rUh-_HjWW",
        "outputId": "5f0f1114-e2df-42e3-8f05-73ecc6e10a5f"
      },
      "execution_count": 11,
      "outputs": [
        {
          "output_type": "stream",
          "name": "stdout",
          "text": [
            "{'a': 1, 'b': 2, 'c': 3, 'd': 4}\n"
          ]
        }
      ]
    },
    {
      "cell_type": "markdown",
      "source": [
        "# 5. Remove Duplicates in a List\n"
      ],
      "metadata": {
        "id": "ckkGEku7HqwK"
      }
    },
    {
      "cell_type": "code",
      "source": [
        "numbers = [1,1,1,2,2,3,4,5,6,7,7,8,9,9,9]\n",
        "\n",
        "list(set(numbers))\n"
      ],
      "metadata": {
        "colab": {
          "base_uri": "https://localhost:8080/"
        },
        "id": "N7G05WHuHnXf",
        "outputId": "cdc03454-472d-4269-f8ce-3be86586ee45"
      },
      "execution_count": 12,
      "outputs": [
        {
          "output_type": "execute_result",
          "data": {
            "text/plain": [
              "[1, 2, 3, 4, 5, 6, 7, 8, 9]"
            ]
          },
          "metadata": {},
          "execution_count": 12
        }
      ]
    },
    {
      "cell_type": "code",
      "source": [
        ""
      ],
      "metadata": {
        "id": "NR7Wzj0uJlgw"
      },
      "execution_count": null,
      "outputs": []
    }
  ]
}