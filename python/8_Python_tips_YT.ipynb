{
  "nbformat": 4,
  "nbformat_minor": 0,
  "metadata": {
    "colab": {
      "provenance": [],
      "collapsed_sections": [],
      "toc_visible": true,
      "authorship_tag": "ABX9TyMjS3/ud92PaW1byJ9Q2SDZ",
      "include_colab_link": true
    },
    "kernelspec": {
      "name": "python3",
      "display_name": "Python 3"
    },
    "language_info": {
      "name": "python"
    }
  },
  "cells": [
    {
      "cell_type": "markdown",
      "metadata": {
        "id": "view-in-github",
        "colab_type": "text"
      },
      "source": [
        "<a href=\"https://colab.research.google.com/github/gkv856/iotbl/blob/master/python/8_Python_tips_YT.ipynb\" target=\"_parent\"><img src=\"https://colab.research.google.com/assets/colab-badge.svg\" alt=\"Open In Colab\"/></a>"
      ]
    },
    {
      "cell_type": "markdown",
      "source": [
        "# 01Ternary operator\n",
        "\n",
        "\n",
        "**bold text**\n",
        "\n"
      ],
      "metadata": {
        "id": "f_o2Hz4j2lnx"
      }
    },
    {
      "cell_type": "code",
      "execution_count": 1,
      "metadata": {
        "id": "CY9RClNa2gdW"
      },
      "outputs": [],
      "source": [
        "# don't do this\n",
        "# condition = True\n",
        "# if condition:\n",
        "#   x = 1\n",
        "# else:\n",
        "#   x= 0\n",
        "\n",
        "# print(x)\n"
      ]
    },
    {
      "cell_type": "markdown",
      "source": [
        "#02 Big numbers"
      ],
      "metadata": {
        "id": "Y_EftedL3P3J"
      }
    },
    {
      "cell_type": "code",
      "source": [
        "# don't do this\n",
        "# num1 = 10000000000\n",
        "# num2 = 10000000\n"
      ],
      "metadata": {
        "id": "WoKUPuiz3EEr"
      },
      "execution_count": 2,
      "outputs": []
    },
    {
      "cell_type": "markdown",
      "source": [
        "#03 Context Manager"
      ],
      "metadata": {
        "id": "67NhdjaD3x75"
      }
    },
    {
      "cell_type": "code",
      "source": [
        "# don't do this\n",
        "# f = open(\"a.txt\", \"r\")\n",
        "# file_content = f.read()\n",
        "# f.close()\n",
        "\n",
        "# using the context manager in python will take of gracefully closing the resource\n",
        "# this could anything and not just a file\n",
        "# e.g. threads where you acquire and release locks\n",
        "# or working with database connection etc\n"
      ],
      "metadata": {
        "id": "Gic8UGuB3X8u"
      },
      "execution_count": 3,
      "outputs": []
    },
    {
      "cell_type": "markdown",
      "source": [
        "#04 Enumerate"
      ],
      "metadata": {
        "id": "ngQWURHv4kTv"
      }
    },
    {
      "cell_type": "code",
      "source": [
        "# don't do this\n",
        "\n",
        "# cities = [\"New Delhi\", \"London\", \"NYC\", \"Toronto\"]\n",
        "# count = 0\n",
        "# for city in cities:\n",
        "#   print(count+1, city)\n",
        "#   count += 1\n"
      ],
      "metadata": {
        "id": "mn2MrHgL4ceQ"
      },
      "execution_count": 4,
      "outputs": []
    },
    {
      "cell_type": "markdown",
      "source": [
        "#05 Working with 2 list"
      ],
      "metadata": {
        "id": "J6aRQrxw5yJ_"
      }
    },
    {
      "cell_type": "code",
      "source": [
        "# # don't do this\n",
        "# countries = [\"India\", \"England\", \"Germany\", \"Canada\"]\n",
        "# capitals = [\"New Delhi\", \"London\", \"Berlin\", \"Ottawa\"]\n",
        "# i = 0\n",
        "# for country in countries:\n",
        "#   print(i+1, country , \"'s capital is called\", capitals[i])\n",
        "#   i += 1\n",
        "\n",
        "# # don't do this either because its not very intutive\n",
        "# countries = [\"India\", \"England\", \"Germany\", \"Canada\"]\n",
        "# capitals = [\"New Delhi\", \"London\", \"Berlin\", \"Ottawa\"]\n",
        "# for i, country in enumerate(countries, start=1):\n",
        "#     print(i, country , \"'s capital is called\", capitals[i-1])\n",
        "\n"
      ],
      "metadata": {
        "id": "cF_CHsst5Byy"
      },
      "execution_count": 5,
      "outputs": []
    },
    {
      "cell_type": "markdown",
      "source": [
        "#06 Unpacking"
      ],
      "metadata": {
        "id": "Q1FoY5-99EaU"
      }
    },
    {
      "cell_type": "code",
      "source": [],
      "metadata": {
        "id": "4qdXRgQZ8Ukn"
      },
      "execution_count": 5,
      "outputs": []
    },
    {
      "cell_type": "markdown",
      "source": [
        "#07 getting passwords"
      ],
      "metadata": {
        "id": "qh0o-fMH-LnL"
      }
    },
    {
      "cell_type": "code",
      "source": [
        "# # dont do this\n",
        "# uname = input(\"Uname: \")\n",
        "# password = input(\"Password: \")\n",
        "\n",
        "# print(\"Welcome back\", uname)\n"
      ],
      "metadata": {
        "id": "YuK6yD-y-NSo"
      },
      "execution_count": 6,
      "outputs": []
    },
    {
      "cell_type": "markdown",
      "source": [
        "# 08 Function arguments"
      ],
      "metadata": {
        "id": "FSFTOZeU-3hM"
      }
    },
    {
      "cell_type": "code",
      "source": [
        "# don't do this\n",
        "# def myFunction(a1, a2, a3, a4, a5, a6=123, a7=343):\n",
        "#   print(a1, a2, a3, a4, a5, a6, a7)\n",
        "\n",
        "# myFunction(\"India\", \"Canada\", \"USA\", \"China\", \"Germany\")\n",
        "\n",
        "\n"
      ],
      "metadata": {
        "id": "7AVAl-N4-YSU"
      },
      "execution_count": 7,
      "outputs": []
    },
    {
      "cell_type": "code",
      "source": [],
      "metadata": {
        "id": "yYug8H5d_e0r"
      },
      "execution_count": 7,
      "outputs": []
    },
    {
      "cell_type": "code",
      "source": [],
      "metadata": {
        "id": "g1ws7fT0_Dy-"
      },
      "execution_count": 7,
      "outputs": []
    },
    {
      "cell_type": "code",
      "source": [],
      "metadata": {
        "id": "FUqmQ92L-SNO"
      },
      "execution_count": 7,
      "outputs": []
    },
    {
      "cell_type": "code",
      "source": [],
      "metadata": {
        "id": "gVKLjua143KA"
      },
      "execution_count": 7,
      "outputs": []
    }
  ]
}