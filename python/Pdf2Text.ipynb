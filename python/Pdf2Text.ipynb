{
  "nbformat": 4,
  "nbformat_minor": 0,
  "metadata": {
    "colab": {
      "name": "Pdf2Text.ipynb",
      "provenance": [],
      "authorship_tag": "ABX9TyOLP/noqckyEwSb6WClP4Ba",
      "include_colab_link": true
    },
    "kernelspec": {
      "name": "python3",
      "display_name": "Python 3"
    },
    "language_info": {
      "name": "python"
    }
  },
  "cells": [
    {
      "cell_type": "markdown",
      "metadata": {
        "id": "view-in-github",
        "colab_type": "text"
      },
      "source": [
        "<a href=\"https://colab.research.google.com/github/gkv856/iotbl/blob/main/python/Pdf2Text.ipynb\" target=\"_parent\"><img src=\"https://colab.research.google.com/assets/colab-badge.svg\" alt=\"Open In Colab\"/></a>"
      ]
    },
    {
      "cell_type": "code",
      "execution_count": 4,
      "metadata": {
        "colab": {
          "base_uri": "https://localhost:8080/"
        },
        "id": "Dk6u3jBRnkp3",
        "outputId": "ac946945-0c6a-492a-caa9-9c4a8efe468f"
      },
      "outputs": [
        {
          "output_type": "stream",
          "name": "stdout",
          "text": [
            "Looking in indexes: https://pypi.org/simple, https://us-python.pkg.dev/colab-wheels/public/simple/\n",
            "Collecting pymupdf\n",
            "  Downloading PyMuPDF-1.20.1-cp37-cp37m-manylinux_2_17_x86_64.manylinux2014_x86_64.whl (8.8 MB)\n",
            "\u001b[K     |████████████████████████████████| 8.8 MB 14.1 MB/s \n",
            "\u001b[?25hInstalling collected packages: pymupdf\n",
            "Successfully installed pymupdf-1.20.1\n"
          ]
        }
      ],
      "source": [
        "!pip install  pymupdf"
      ]
    },
    {
      "cell_type": "code",
      "source": [
        "import spacy\n",
        "import fitz\n",
        "import json\n",
        "import hashlib\n",
        "import os"
      ],
      "metadata": {
        "id": "tjhu74annwm8"
      },
      "execution_count": 9,
      "outputs": []
    },
    {
      "cell_type": "code",
      "source": [
        "FILE_PATH = \"/content/pdf01.pdf\""
      ],
      "metadata": {
        "id": "mgvFjkk_oaXl"
      },
      "execution_count": 6,
      "outputs": []
    },
    {
      "cell_type": "code",
      "source": [
        "# opening the same tmp file\n",
        "pdf = fitz.open(FILE_PATH)"
      ],
      "metadata": {
        "id": "nSF61zo1oDSq"
      },
      "execution_count": 11,
      "outputs": []
    },
    {
      "cell_type": "code",
      "source": [
        "pdf.metadata"
      ],
      "metadata": {
        "colab": {
          "base_uri": "https://localhost:8080/"
        },
        "id": "7gxxdViupELK",
        "outputId": "9fd9d655-2fe3-44f0-825f-8db08c427b57"
      },
      "execution_count": 12,
      "outputs": [
        {
          "output_type": "execute_result",
          "data": {
            "text/plain": [
              "{'author': 'Chris Voss',\n",
              " 'creationDate': \"D:20190105063243+00'00'\",\n",
              " 'creator': 'calibre 1.48.0 [http://calibre-ebook.com]',\n",
              " 'encryption': None,\n",
              " 'format': 'PDF 1.4',\n",
              " 'keywords': '',\n",
              " 'modDate': \"D:20190315222840+01'00'\",\n",
              " 'producer': 'calibre 1.48.0 [http://calibre-ebook.com]',\n",
              " 'subject': '',\n",
              " 'title': 'Never Split the Difference: Negotiating as if Your Life Depended on It',\n",
              " 'trapped': ''}"
            ]
          },
          "metadata": {},
          "execution_count": 12
        }
      ]
    },
    {
      "cell_type": "code",
      "source": [
        "pdf.get_toc()"
      ],
      "metadata": {
        "colab": {
          "base_uri": "https://localhost:8080/"
        },
        "id": "EfYbXCbEpIi4",
        "outputId": "048734e1-d721-41d4-f990-6fa71d8e9da2"
      },
      "execution_count": 14,
      "outputs": [
        {
          "output_type": "execute_result",
          "data": {
            "text/plain": [
              "[[1, 'Dedication', 4],\n",
              " [1, 'CHAPTER 1 | THE NEW RULES', 8],\n",
              " [1, 'How to Become the Smartest Person . . . in Any Room', 8],\n",
              " [1, 'CHAPTER 2 | BE A MIRROR', 36],\n",
              " [1, 'How to Quickly Establish Rapport', 36],\n",
              " [1, 'CHAPTER 3 | DON’T FEEL THEIR PAIN, LABEL IT', 70],\n",
              " [1, 'How to Create Trust with Tactical Empathy', 70],\n",
              " [1, 'CHAPTER 4 | BEWARE “YES”—MASTER “NO”', 102],\n",
              " [1,\n",
              "  'How to Generate Momentum and Make It Safe to Reveal the Real Stakes',\n",
              "  102],\n",
              " [1,\n",
              "  'CHAPTER 5 | TRIGGER THE TWO WORDS THAT IMMEDIATELY TRANSFORM ANY NEGOTIATION',\n",
              "  130],\n",
              " [1, 'How to Gain the Permission to Persuade', 130],\n",
              " [1, 'CHAPTER 6 | BEND THEIR REALITY', 152],\n",
              " [1, 'How to Shape What Is Fair', 152],\n",
              " [1, 'CHAPTER 7 | CREATE THE ILLUSION OF CONTROL', 188],\n",
              " [1,\n",
              "  'How to Calibrate Questions to Transform Conflict into Collaboration',\n",
              "  188],\n",
              " [1, 'CHAPTER 8 | GUARANTEE EXECUTION', 216],\n",
              " [1,\n",
              "  'How to Spot the Liars and Ensure Follow-Through from Everyone Else',\n",
              "  216],\n",
              " [1, 'CHAPTER 9 | BARGAIN HARD', 249],\n",
              " [1, 'How to Get Your Price', 249],\n",
              " [1, 'CHAPTER 10 | FIND THE BLACK SWAN', 281],\n",
              " [1, 'How to Create Breakthroughs by Revealing the Unknown Unknowns', 281],\n",
              " [1, 'Acknowledgments', 323],\n",
              " [1, 'Appendix: Prepare a Negotiation One Sheet', 327],\n",
              " [1, 'Notes', 337],\n",
              " [1, 'Index', 341],\n",
              " [1, 'About the Authors', 370],\n",
              " [1, 'Credits', 372],\n",
              " [1, 'Copyright', 373],\n",
              " [1, 'About the Publisher', 374]]"
            ]
          },
          "metadata": {},
          "execution_count": 14
        }
      ]
    },
    {
      "cell_type": "code",
      "source": [
        "pdf.page_count"
      ],
      "metadata": {
        "colab": {
          "base_uri": "https://localhost:8080/"
        },
        "id": "fwmnD1jEpULF",
        "outputId": "d2f9ba03-75b6-4f24-e936-8426782a43a1"
      },
      "execution_count": 15,
      "outputs": [
        {
          "output_type": "execute_result",
          "data": {
            "text/plain": [
              "375"
            ]
          },
          "metadata": {},
          "execution_count": 15
        }
      ]
    },
    {
      "cell_type": "code",
      "source": [
        "pdf.load_page(10).get_text()"
      ],
      "metadata": {
        "colab": {
          "base_uri": "https://localhost:8080/",
          "height": 157
        },
        "id": "AygIrbRrpYl1",
        "outputId": "7c4e475a-506b-4117-dc07-dcca8b86a500"
      },
      "execution_count": 17,
      "outputs": [
        {
          "output_type": "execute_result",
          "data": {
            "text/plain": [
              "'don’t\\teven\\tknow\\the’s\\talive?”\\nIt\\twas\\tquite\\ta\\tsight\\tto\\tsee\\tsuch\\ta\\tbrilliant\\tman\\tflustered\\nby\\twhat\\tmust\\thave\\tseemed\\tunsophisticated\\tfoolishness.\\tOn\\nthe\\tcontrary,\\tthough,\\tmy\\tmove\\twas\\tanything\\tbut\\tfoolish.\\tI\\nwas\\t employing\\t what\\t had\\t become\\t one\\t of\\t the\\t FBI’s\\t most\\npotent\\tnegotiating\\ttools:\\tthe\\topen-ended\\tquestion.\\nToday,\\t after\\t some\\t years\\t evolving\\t these\\t tactics\\t for\\t the\\nprivate\\t sector\\t in\\t my\\t consultancy,\\tThe\\t Black\\t Swan\\t Group,\\nwe\\tcall\\tthis\\ttactic\\tcalibrated\\tquestions:\\tqueries\\tthat\\tthe\\tother\\nside\\tcan\\trespond\\tto\\tbut\\tthat\\thave\\tno\\tfixed\\tanswers.\\tIt\\tbuys\\nyou\\ttime.\\tIt\\tgives\\tyour\\tcounterpart\\tthe\\tillusion\\tof\\tcontrol—\\nthey\\tare\\tthe\\tone\\twith\\tthe\\tanswers\\tand\\tpower\\tafter\\tall—and\\tit\\ndoes\\t all\\t that\\t without\\t giving\\t them\\t any\\t idea\\t of\\t how\\nconstrained\\tthey\\tare\\tby\\tit.\\nMnookin,\\t predictably,\\t started\\t fumbling\\t because\\t the\\nframe\\tof\\tthe\\tconversation\\thad\\tshifted\\tfrom\\thow\\tI’d\\trespond\\nto\\tthe\\tthreat\\tof\\tmy\\tson’s\\tmurder\\tto\\thow\\tthe\\tprofessor\\twould\\ndeal\\twith\\tthe\\tlogistical\\tissues\\tinvolved\\tin\\tgetting\\tthe\\tmoney.\\nHow\\t he\\t would\\t solve\\tmy\\t problems.\\t To\\t every\\t threat\\t and\\ndemand\\the\\tmade,\\tI\\tcontinued\\tto\\task\\thow\\tI\\twas\\tsupposed\\tto\\npay\\thim\\tand\\thow\\twas\\tI\\tsupposed\\tto\\tknow\\tthat\\tmy\\tson\\twas\\nalive.\\nAfter\\twe’d\\tbeen\\tdoing\\tthat\\tfor\\tthree\\tminutes,\\tGabriella\\nBlum\\tinterjected.\\n“Don’t\\tlet\\thim\\tdo\\tthat\\tto\\tyou,”\\tshe\\tsaid\\tto\\tMnookin.\\n“Well,\\tyou\\ttry,”\\the\\tsaid,\\tthrowing\\tup\\this\\thands.\\nBlum\\t dove\\t in.\\t She\\t was\\t tougher\\t from\\t her\\t years\\t in\\t the\\nMiddle\\tEast.\\tBut\\tshe\\twas\\tstill\\tdoing\\tthe\\tbulldozer\\tangle,\\tand\\n'"
            ],
            "application/vnd.google.colaboratory.intrinsic+json": {
              "type": "string"
            }
          },
          "metadata": {},
          "execution_count": 17
        }
      ]
    },
    {
      "cell_type": "code",
      "source": [
        ""
      ],
      "metadata": {
        "id": "kbi6JGABpdnj"
      },
      "execution_count": null,
      "outputs": []
    },
    {
      "cell_type": "code",
      "source": [
        "def get_book_content(pdf_file):\n",
        "    # if file exist, just read and return\n",
        "    file_metadata = pdf_file.metadata\n",
        "    json_str_metadata = json.dumps(file_metadata)\n",
        "\n",
        "    print(json_str_metadata)\n",
        "\n",
        "    hash_obj = hashlib.md5(bytes(json_str_metadata, encoding=\"raw_unicode_escape\"))\n",
        "    file_hex = hash_obj.hexdigest()\n",
        "    fname = os.path.join(file_hex + \".txt\")\n",
        "    \n",
        "    if os.path.isfile(fname):\n",
        "        f = open(fname, \"r\")\n",
        "        file_content = f.read()\n",
        "        f.close()\n",
        "        json_data = json.loads(file_content)\n",
        "\n",
        "        return json_data, file_hex, False\n",
        "\n",
        "    print(\"File not saved, processing it as a new file.\")\n",
        "\n",
        "    num_pages = pdf_file.page_count\n",
        "    book_content = []\n",
        "    for i in range(0, num_pages):\n",
        "        # i = 14\n",
        "        page = pdf_file.load_page(i)\n",
        "        page_text = page.get_text()\n",
        "        raw_txt = page_text.replace(\"\\t\", \" \")\n",
        "        # raw_txt = raw_txt.replace(\"\\n\", \" \")\n",
        "        \n",
        "    # removing pages with 0 sentences/paragraphs\n",
        "    clean_book = []\n",
        "    for page in book_content:\n",
        "        if len(page):\n",
        "            clean_book.append(page)\n",
        "\n",
        "    return clean_book, file_hex, True"
      ],
      "metadata": {
        "id": "L7oWj_6moc-Q"
      },
      "execution_count": null,
      "outputs": []
    }
  ]
}