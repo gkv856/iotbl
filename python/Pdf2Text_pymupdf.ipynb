{
  "nbformat": 4,
  "nbformat_minor": 0,
  "metadata": {
    "colab": {
      "name": "Pdf2Text_pymupdf.ipynb",
      "provenance": [],
      "toc_visible": true,
      "authorship_tag": "ABX9TyOiVL75xx73V4Unm/UR20aT",
      "include_colab_link": true
    },
    "kernelspec": {
      "name": "python3",
      "display_name": "Python 3"
    },
    "language_info": {
      "name": "python"
    }
  },
  "cells": [
    {
      "cell_type": "markdown",
      "metadata": {
        "id": "view-in-github",
        "colab_type": "text"
      },
      "source": [
        "<a href=\"https://colab.research.google.com/github/gkv856/iotbl/blob/main/python/Pdf2Text_pymupdf.ipynb\" target=\"_parent\"><img src=\"https://colab.research.google.com/assets/colab-badge.svg\" alt=\"Open In Colab\"/></a>"
      ]
    },
    {
      "cell_type": "markdown",
      "source": [
        "# PDF to Text using 'pymupdf' with Python"
      ],
      "metadata": {
        "id": "2Xa4HeOBC7TA"
      }
    },
    {
      "cell_type": "markdown",
      "source": [
        "# Install 'pymupdf'"
      ],
      "metadata": {
        "id": "DZhzI2tiBzum"
      }
    },
    {
      "cell_type": "code",
      "execution_count": 1,
      "metadata": {
        "colab": {
          "base_uri": "https://localhost:8080/"
        },
        "id": "yIS31S3wpnDb",
        "outputId": "ffc8c124-0c42-40a4-8477-45c8fad95e58"
      },
      "outputs": [
        {
          "output_type": "stream",
          "name": "stdout",
          "text": [
            "Looking in indexes: https://pypi.org/simple, https://us-python.pkg.dev/colab-wheels/public/simple/\n",
            "Collecting pymupdf\n",
            "  Downloading PyMuPDF-1.20.1-cp37-cp37m-manylinux_2_17_x86_64.manylinux2014_x86_64.whl (8.8 MB)\n",
            "\u001b[K     |████████████████████████████████| 8.8 MB 1.1 MB/s \n",
            "\u001b[?25hInstalling collected packages: pymupdf\n",
            "Successfully installed pymupdf-1.20.1\n"
          ]
        }
      ],
      "source": [
        "!pip install pymupdf"
      ]
    },
    {
      "cell_type": "markdown",
      "source": [
        "# Importing dependencies"
      ],
      "metadata": {
        "id": "yzVdYbVFB8AN"
      }
    },
    {
      "cell_type": "code",
      "source": [
        "import fitz"
      ],
      "metadata": {
        "id": "9DZ2MvvfB7EC"
      },
      "execution_count": 3,
      "outputs": []
    },
    {
      "cell_type": "code",
      "source": [
        "FILE_PATH = \"/content/pdf01.pdf\""
      ],
      "metadata": {
        "id": "63PUi8SfECkC"
      },
      "execution_count": 4,
      "outputs": []
    },
    {
      "cell_type": "markdown",
      "source": [
        "# Upload a pdf file to read\n",
        "usecase would be to let user upload a file using an app\n",
        "send that file to an API server and that api server will return the text out of that pdf file\n",
        "\n",
        "[Speech AI](https://speechwithai.com)"
      ],
      "metadata": {
        "id": "j54qMDrHCAC2"
      }
    },
    {
      "cell_type": "code",
      "source": [
        "pdf = fitz.open(FILE_PATH)"
      ],
      "metadata": {
        "id": "dIdCz3s-CR-Y"
      },
      "execution_count": 5,
      "outputs": []
    },
    {
      "cell_type": "markdown",
      "source": [
        "# Metadata of the file"
      ],
      "metadata": {
        "id": "RRpMziYGCbJ7"
      }
    },
    {
      "cell_type": "code",
      "source": [
        "pdf.metadata"
      ],
      "metadata": {
        "colab": {
          "base_uri": "https://localhost:8080/"
        },
        "id": "dgojYuqOCYeG",
        "outputId": "1e5c944c-4f41-428b-d1c2-1f7d97ee54db"
      },
      "execution_count": 6,
      "outputs": [
        {
          "output_type": "execute_result",
          "data": {
            "text/plain": [
              "{'author': 'Chris Voss',\n",
              " 'creationDate': \"D:20190105063243+00'00'\",\n",
              " 'creator': 'calibre 1.48.0 [http://calibre-ebook.com]',\n",
              " 'encryption': None,\n",
              " 'format': 'PDF 1.4',\n",
              " 'keywords': '',\n",
              " 'modDate': \"D:20190315222840+01'00'\",\n",
              " 'producer': 'calibre 1.48.0 [http://calibre-ebook.com]',\n",
              " 'subject': '',\n",
              " 'title': 'Never Split the Difference: Negotiating as if Your Life Depended on It',\n",
              " 'trapped': ''}"
            ]
          },
          "metadata": {},
          "execution_count": 6
        }
      ]
    },
    {
      "cell_type": "markdown",
      "source": [
        "# Table of content"
      ],
      "metadata": {
        "id": "kXIJV8NxCei9"
      }
    },
    {
      "cell_type": "code",
      "source": [
        "pdf.get_toc()"
      ],
      "metadata": {
        "colab": {
          "base_uri": "https://localhost:8080/"
        },
        "id": "zhHqBLzUCXvU",
        "outputId": "f098653f-a1f4-4b17-db25-9ea587e74651"
      },
      "execution_count": 8,
      "outputs": [
        {
          "output_type": "execute_result",
          "data": {
            "text/plain": [
              "[[1, 'Dedication', 4],\n",
              " [1, 'CHAPTER 1 | THE NEW RULES', 8],\n",
              " [1, 'How to Become the Smartest Person . . . in Any Room', 8],\n",
              " [1, 'CHAPTER 2 | BE A MIRROR', 36],\n",
              " [1, 'How to Quickly Establish Rapport', 36],\n",
              " [1, 'CHAPTER 3 | DON’T FEEL THEIR PAIN, LABEL IT', 70],\n",
              " [1, 'How to Create Trust with Tactical Empathy', 70],\n",
              " [1, 'CHAPTER 4 | BEWARE “YES”—MASTER “NO”', 102],\n",
              " [1,\n",
              "  'How to Generate Momentum and Make It Safe to Reveal the Real Stakes',\n",
              "  102],\n",
              " [1,\n",
              "  'CHAPTER 5 | TRIGGER THE TWO WORDS THAT IMMEDIATELY TRANSFORM ANY NEGOTIATION',\n",
              "  130],\n",
              " [1, 'How to Gain the Permission to Persuade', 130],\n",
              " [1, 'CHAPTER 6 | BEND THEIR REALITY', 152],\n",
              " [1, 'How to Shape What Is Fair', 152],\n",
              " [1, 'CHAPTER 7 | CREATE THE ILLUSION OF CONTROL', 188],\n",
              " [1,\n",
              "  'How to Calibrate Questions to Transform Conflict into Collaboration',\n",
              "  188],\n",
              " [1, 'CHAPTER 8 | GUARANTEE EXECUTION', 216],\n",
              " [1,\n",
              "  'How to Spot the Liars and Ensure Follow-Through from Everyone Else',\n",
              "  216],\n",
              " [1, 'CHAPTER 9 | BARGAIN HARD', 249],\n",
              " [1, 'How to Get Your Price', 249],\n",
              " [1, 'CHAPTER 10 | FIND THE BLACK SWAN', 281],\n",
              " [1, 'How to Create Breakthroughs by Revealing the Unknown Unknowns', 281],\n",
              " [1, 'Acknowledgments', 323],\n",
              " [1, 'Appendix: Prepare a Negotiation One Sheet', 327],\n",
              " [1, 'Notes', 337],\n",
              " [1, 'Index', 341],\n",
              " [1, 'About the Authors', 370],\n",
              " [1, 'Credits', 372],\n",
              " [1, 'Copyright', 373],\n",
              " [1, 'About the Publisher', 374]]"
            ]
          },
          "metadata": {},
          "execution_count": 8
        }
      ]
    },
    {
      "cell_type": "markdown",
      "source": [
        "# Page count"
      ],
      "metadata": {
        "id": "pK1b0LzyCidc"
      }
    },
    {
      "cell_type": "code",
      "source": [
        "pdf.page_count"
      ],
      "metadata": {
        "colab": {
          "base_uri": "https://localhost:8080/"
        },
        "id": "vWm_GCFmChu-",
        "outputId": "f8822520-130a-454d-8267-51fd370891e8"
      },
      "execution_count": 9,
      "outputs": [
        {
          "output_type": "execute_result",
          "data": {
            "text/plain": [
              "375"
            ]
          },
          "metadata": {},
          "execution_count": 9
        }
      ]
    },
    {
      "cell_type": "markdown",
      "source": [
        "# Page as text"
      ],
      "metadata": {
        "id": "66bXC5GMCnB1"
      }
    },
    {
      "cell_type": "code",
      "source": [
        "page_content = pdf.load_page(10).get_text().replace(\"\\t\", \" \")"
      ],
      "metadata": {
        "id": "g8ZE7esxCpcd"
      },
      "execution_count": 13,
      "outputs": []
    },
    {
      "cell_type": "code",
      "source": [
        "print(page_content)"
      ],
      "metadata": {
        "colab": {
          "base_uri": "https://localhost:8080/"
        },
        "id": "gxboe4H4Fdvb",
        "outputId": "c78adc06-961e-41f2-82e9-1bc5719e4493"
      },
      "execution_count": 14,
      "outputs": [
        {
          "output_type": "stream",
          "name": "stdout",
          "text": [
            "don’t even know he’s alive?”\n",
            "It was quite a sight to see such a brilliant man flustered\n",
            "by what must have seemed unsophisticated foolishness. On\n",
            "the contrary, though, my move was anything but foolish. I\n",
            "was  employing  what  had  become  one  of  the  FBI’s  most\n",
            "potent negotiating tools: the open-ended question.\n",
            "Today,  after  some  years  evolving  these  tactics  for  the\n",
            "private  sector  in  my  consultancy, The  Black  Swan  Group,\n",
            "we call this tactic calibrated questions: queries that the other\n",
            "side can respond to but that have no fixed answers. It buys\n",
            "you time. It gives your counterpart the illusion of control—\n",
            "they are the one with the answers and power after all—and it\n",
            "does  all  that  without  giving  them  any  idea  of  how\n",
            "constrained they are by it.\n",
            "Mnookin,  predictably,  started  fumbling  because  the\n",
            "frame of the conversation had shifted from how I’d respond\n",
            "to the threat of my son’s murder to how the professor would\n",
            "deal with the logistical issues involved in getting the money.\n",
            "How  he  would  solve my  problems.  To  every  threat  and\n",
            "demand he made, I continued to ask how I was supposed to\n",
            "pay him and how was I supposed to know that my son was\n",
            "alive.\n",
            "After we’d been doing that for three minutes, Gabriella\n",
            "Blum interjected.\n",
            "“Don’t let him do that to you,” she said to Mnookin.\n",
            "“Well, you try,” he said, throwing up his hands.\n",
            "Blum  dove  in.  She  was  tougher  from  her  years  in  the\n",
            "Middle East. But she was still doing the bulldozer angle, and\n",
            "\n"
          ]
        }
      ]
    },
    {
      "cell_type": "markdown",
      "source": [
        "# Entire book as a text"
      ],
      "metadata": {
        "id": "me5mDObmCsXA"
      }
    },
    {
      "cell_type": "code",
      "source": [
        "from sys import ps1\n",
        "def get_book_content(pdf_file):\n",
        "  \n",
        "  # start from 0 and go until last page\n",
        "  # get all the text as list\n",
        "\n",
        "  num_pages = pdf_file.page_count\n",
        "  book_content = []\n",
        "  for i in range(0, num_pages):\n",
        "    page = pdf_file.load_page(i)\n",
        "    page_text = page.get_text()\n",
        "    raw_txt = page_text.replace(\"\\t\", \" \")\n",
        "\n",
        "    book_content.append(raw_txt)    \n",
        "  \n",
        "\n",
        "  return book_content\n",
        "\n"
      ],
      "metadata": {
        "id": "3C76xwM3Cp8B"
      },
      "execution_count": 18,
      "outputs": []
    },
    {
      "cell_type": "code",
      "source": [
        "book = get_book_content(pdf)"
      ],
      "metadata": {
        "id": "K0u_ptB6GbmY"
      },
      "execution_count": 19,
      "outputs": []
    },
    {
      "cell_type": "code",
      "source": [
        "print(book[10])"
      ],
      "metadata": {
        "colab": {
          "base_uri": "https://localhost:8080/"
        },
        "id": "Rucjrj05GeZm",
        "outputId": "653619d3-204d-43a0-e06c-6d410e5215e1"
      },
      "execution_count": 25,
      "outputs": [
        {
          "output_type": "stream",
          "name": "stdout",
          "text": [
            "don’t even know he’s alive?”\n",
            "It was quite a sight to see such a brilliant man flustered\n",
            "by what must have seemed unsophisticated foolishness. On\n",
            "the contrary, though, my move was anything but foolish. I\n",
            "was  employing  what  had  become  one  of  the  FBI’s  most\n",
            "potent negotiating tools: the open-ended question.\n",
            "Today,  after  some  years  evolving  these  tactics  for  the\n",
            "private  sector  in  my  consultancy, The  Black  Swan  Group,\n",
            "we call this tactic calibrated questions: queries that the other\n",
            "side can respond to but that have no fixed answers. It buys\n",
            "you time. It gives your counterpart the illusion of control—\n",
            "they are the one with the answers and power after all—and it\n",
            "does  all  that  without  giving  them  any  idea  of  how\n",
            "constrained they are by it.\n",
            "Mnookin,  predictably,  started  fumbling  because  the\n",
            "frame of the conversation had shifted from how I’d respond\n",
            "to the threat of my son’s murder to how the professor would\n",
            "deal with the logistical issues involved in getting the money.\n",
            "How  he  would  solve my  problems.  To  every  threat  and\n",
            "demand he made, I continued to ask how I was supposed to\n",
            "pay him and how was I supposed to know that my son was\n",
            "alive.\n",
            "After we’d been doing that for three minutes, Gabriella\n",
            "Blum interjected.\n",
            "“Don’t let him do that to you,” she said to Mnookin.\n",
            "“Well, you try,” he said, throwing up his hands.\n",
            "Blum  dove  in.  She  was  tougher  from  her  years  in  the\n",
            "Middle East. But she was still doing the bulldozer angle, and\n",
            "\n"
          ]
        }
      ]
    }
  ]
}