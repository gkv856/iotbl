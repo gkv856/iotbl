{
  "nbformat": 4,
  "nbformat_minor": 0,
  "metadata": {
    "colab": {
      "name": "Chess_pgn_to_list.ipynb",
      "provenance": [],
      "collapsed_sections": [],
      "authorship_tag": "ABX9TyNZKPGqDt0n6Nyeg6q5TeIT",
      "include_colab_link": true
    },
    "kernelspec": {
      "name": "python3",
      "display_name": "Python 3"
    },
    "language_info": {
      "name": "python"
    }
  },
  "cells": [
    {
      "cell_type": "markdown",
      "metadata": {
        "id": "view-in-github",
        "colab_type": "text"
      },
      "source": [
        "<a href=\"https://colab.research.google.com/github/gkv856/iotbl/blob/main/python/Chess_pgn_to_list.ipynb\" target=\"_parent\"><img src=\"https://colab.research.google.com/assets/colab-badge.svg\" alt=\"Open In Colab\"/></a>"
      ]
    },
    {
      "cell_type": "code",
      "source": [
        "g = \"\"\"1. e4 e5 2. Nf3 Nc6 3. Bb5 a6 4. Ba4 Nf6 5. O-O Be7 6. Re1 b5 7. Bb3 d6 8. c3\n",
        "O-O 9. h3 Nb8 10. d4 Nbd7 11. Nbd2 Bb7 12. Bc2 Re8 13. Nf1 Bf8 14. Ng3 g6 15.\n",
        "Bg5 h6 16. Bd2 Bg7 17. a4 c5 18. d5 c4 19. b4 Nh7 20. Be3 h5 21. Qd2 Rf8 22. Ra3\n",
        "Ndf6 23. Rea1 Qd7 24. R1a2 Rfc8 25. Qc1 Bf8 26. Qa1 Qe8 27. Nf1 Be7 28. N1d2 Kg7\n",
        "29. Nb1 Nxe4 30. Bxe4 f5 31. Bc2 Bxd5 32. axb5 axb5 33. Ra7 Kf6 34. Nbd2 Rxa7\n",
        "35. Rxa7 Ra8 36. g4 hxg4 37. hxg4 Rxa7 38. Qxa7 f4 39. Bxf4 exf4 40. Nh4 Bf7 41.\n",
        "Qd4+ Ke6 42. Nf5 Bf8 43. Qxf4 Kd7 44. Nd4 Qe1+ 45. Kg2 Bd5+ 46. Be4 Bxe4+ 47.\n",
        "Nxe4 Be7 48. Nxb5 Nf8 49. Nbxd6 Ne6 50. Qe5 1-0\"\"\""
      ],
      "metadata": {
        "id": "TKuEKs3j8ufV"
      },
      "execution_count": 4,
      "outputs": []
    },
    {
      "cell_type": "code",
      "source": [
        "import re\n",
        "regEx = r'[a-h][a-h]?[1-8]=?[BKNRQ]?|O-O-?O?|[BKNRQ][a-h1-8]?[a-h1-8]?[a-h][1-8]'"
      ],
      "metadata": {
        "id": "7pm_IbQI8u9T"
      },
      "execution_count": 6,
      "outputs": []
    },
    {
      "cell_type": "code",
      "execution_count": 7,
      "metadata": {
        "id": "pqTj1PypC7rk",
        "colab": {
          "base_uri": "https://localhost:8080/"
        },
        "outputId": "d9e244ec-9bc9-4717-a250-b57dc23d4489"
      },
      "outputs": [
        {
          "output_type": "execute_result",
          "data": {
            "text/plain": [
              "['e4',\n",
              " 'e5',\n",
              " 'Nf3',\n",
              " 'Nc6',\n",
              " 'Bb5',\n",
              " 'a6',\n",
              " 'Ba4',\n",
              " 'Nf6',\n",
              " 'O-O',\n",
              " 'Be7',\n",
              " 'Re1',\n",
              " 'b5',\n",
              " 'Bb3',\n",
              " 'd6',\n",
              " 'c3',\n",
              " 'O-O',\n",
              " 'h3',\n",
              " 'Nb8',\n",
              " 'd4',\n",
              " 'Nbd7',\n",
              " 'Nbd2',\n",
              " 'Bb7',\n",
              " 'Bc2',\n",
              " 'Re8',\n",
              " 'Nf1',\n",
              " 'Bf8',\n",
              " 'Ng3',\n",
              " 'g6',\n",
              " 'Bg5',\n",
              " 'h6',\n",
              " 'Bd2',\n",
              " 'Bg7',\n",
              " 'a4',\n",
              " 'c5',\n",
              " 'd5',\n",
              " 'c4',\n",
              " 'b4',\n",
              " 'Nh7',\n",
              " 'Be3',\n",
              " 'h5',\n",
              " 'Qd2',\n",
              " 'Rf8',\n",
              " 'Ra3',\n",
              " 'Ndf6',\n",
              " 'Rea1',\n",
              " 'Qd7',\n",
              " 'R1a2',\n",
              " 'Rfc8',\n",
              " 'Qc1',\n",
              " 'Bf8',\n",
              " 'Qa1',\n",
              " 'Qe8',\n",
              " 'Nf1',\n",
              " 'Be7',\n",
              " 'N1d2',\n",
              " 'Kg7',\n",
              " 'Nb1',\n",
              " 'e4',\n",
              " 'e4',\n",
              " 'f5',\n",
              " 'Bc2',\n",
              " 'd5',\n",
              " 'b5',\n",
              " 'b5',\n",
              " 'Ra7',\n",
              " 'Kf6',\n",
              " 'Nbd2',\n",
              " 'a7',\n",
              " 'a7',\n",
              " 'Ra8',\n",
              " 'g4',\n",
              " 'g4',\n",
              " 'g4',\n",
              " 'a7',\n",
              " 'a7',\n",
              " 'f4',\n",
              " 'f4',\n",
              " 'f4',\n",
              " 'Nh4',\n",
              " 'Bf7',\n",
              " 'Qd4',\n",
              " 'Ke6',\n",
              " 'Nf5',\n",
              " 'Bf8',\n",
              " 'f4',\n",
              " 'Kd7',\n",
              " 'Nd4',\n",
              " 'Qe1',\n",
              " 'Kg2',\n",
              " 'Bd5',\n",
              " 'Be4',\n",
              " 'e4',\n",
              " 'e4',\n",
              " 'Be7',\n",
              " 'b5',\n",
              " 'Nf8',\n",
              " 'd6',\n",
              " 'Ne6',\n",
              " 'Qe5']"
            ]
          },
          "metadata": {},
          "execution_count": 7
        }
      ],
      "source": [
        "re.findall(regEx, g)"
      ]
    }
  ]
}