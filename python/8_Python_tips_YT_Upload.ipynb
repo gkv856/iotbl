{
  "nbformat": 4,
  "nbformat_minor": 0,
  "metadata": {
    "colab": {
      "provenance": [],
      "collapsed_sections": [],
      "toc_visible": true,
      "authorship_tag": "ABX9TyNex/jL4He+tJTs6U0ue0il",
      "include_colab_link": true
    },
    "kernelspec": {
      "name": "python3",
      "display_name": "Python 3"
    },
    "language_info": {
      "name": "python"
    }
  },
  "cells": [
    {
      "cell_type": "markdown",
      "metadata": {
        "id": "view-in-github",
        "colab_type": "text"
      },
      "source": [
        "<a href=\"https://colab.research.google.com/github/gkv856/iotbl/blob/main/python/8_Python_tips_YT_Upload.ipynb\" target=\"_parent\"><img src=\"https://colab.research.google.com/assets/colab-badge.svg\" alt=\"Open In Colab\"/></a>"
      ]
    },
    {
      "cell_type": "markdown",
      "source": [
        "# 01Ternary operator\n",
        "\n",
        "\n",
        "**bold text**\n",
        "\n"
      ],
      "metadata": {
        "id": "f_o2Hz4j2lnx"
      }
    },
    {
      "cell_type": "code",
      "execution_count": null,
      "metadata": {
        "colab": {
          "base_uri": "https://localhost:8080/"
        },
        "id": "CY9RClNa2gdW",
        "outputId": "e3f9953c-4a05-4f75-8d8b-b1ed3e4d6b4f"
      },
      "outputs": [
        {
          "output_type": "stream",
          "name": "stdout",
          "text": [
            "1\n"
          ]
        }
      ],
      "source": [
        "# don't do this\n",
        "# condition = True\n",
        "# if condition:\n",
        "#   x = 1\n",
        "# else:\n",
        "#   x= 0\n",
        "\n",
        "# print(x)\n",
        "\n",
        "condition = True\n",
        "x = 1 if condition else 0\n",
        "print(x)\n"
      ]
    },
    {
      "cell_type": "markdown",
      "source": [
        "#02 Big numbers"
      ],
      "metadata": {
        "id": "Y_EftedL3P3J"
      }
    },
    {
      "cell_type": "code",
      "source": [
        "# don't do this\n",
        "# num1 = 10000000000\n",
        "# num2 = 10000000\n",
        "\n",
        "num1 = 10_000_000_000\n",
        "num2 = 10_000_000\n",
        "\n",
        "total = num1 + num2\n",
        "\n",
        "print(total)\n"
      ],
      "metadata": {
        "colab": {
          "base_uri": "https://localhost:8080/"
        },
        "id": "WoKUPuiz3EEr",
        "outputId": "ceab665c-1489-4931-c469-53731d8902f2"
      },
      "execution_count": null,
      "outputs": [
        {
          "output_type": "stream",
          "name": "stdout",
          "text": [
            "10010000000\n"
          ]
        }
      ]
    },
    {
      "cell_type": "markdown",
      "source": [
        "#03 Context Manager"
      ],
      "metadata": {
        "id": "67NhdjaD3x75"
      }
    },
    {
      "cell_type": "code",
      "source": [
        "# don't do this\n",
        "# f = open(\"a.txt\", \"r\")\n",
        "# file_content = f.read()\n",
        "# f.close()\n",
        "\n",
        "# using the context manager in python will take of gracefully closing the resource\n",
        "# this could anything and not just a file\n",
        "# e.g. threads where you acquire and release locks\n",
        "# or working with database connection etc\n",
        "\n",
        "with open(\"a.txt\", \"r\") as f:\n",
        "  file_content = f.read()\n",
        "\n",
        "words = file_content.split(\" \")\n",
        "word_count = len(words)\n",
        "print(word_count)\n"
      ],
      "metadata": {
        "colab": {
          "base_uri": "https://localhost:8080/"
        },
        "id": "Gic8UGuB3X8u",
        "outputId": "26f613b4-0db4-4f94-f4a5-32dceb994d4c"
      },
      "execution_count": null,
      "outputs": [
        {
          "output_type": "stream",
          "name": "stdout",
          "text": [
            "1\n"
          ]
        }
      ]
    },
    {
      "cell_type": "markdown",
      "source": [
        "#04 Enumerate"
      ],
      "metadata": {
        "id": "ngQWURHv4kTv"
      }
    },
    {
      "cell_type": "code",
      "source": [
        "# don't do this\n",
        "\n",
        "# cities = [\"New Delhi\", \"London\", \"NYC\", \"Toronto\"]\n",
        "# count = 0\n",
        "# for city in cities:\n",
        "#   print(count+1, city)\n",
        "#   count += 1\n",
        "\n",
        "cities = [\"New Delhi\", \"London\", \"NYC\", \"Toronto\"]\n",
        "for item in enumerate(cities, start=1):\n",
        "  print(item[0], item[1])\n"
      ],
      "metadata": {
        "colab": {
          "base_uri": "https://localhost:8080/"
        },
        "id": "mn2MrHgL4ceQ",
        "outputId": "0e5f7dcc-a918-4315-f2b9-427bbe5e23a5"
      },
      "execution_count": null,
      "outputs": [
        {
          "output_type": "stream",
          "name": "stdout",
          "text": [
            "1 New Delhi\n",
            "2 London\n",
            "3 NYC\n",
            "4 Toronto\n"
          ]
        }
      ]
    },
    {
      "cell_type": "markdown",
      "source": [
        "#00 The Crazy one\n",
        "\n",
        "1.   Share\n",
        "2.   Like\n",
        "3.   Subscribe\n",
        "\n",
        "\n",
        "\n"
      ],
      "metadata": {
        "id": "ZEQdAnHO-B2V"
      }
    },
    {
      "cell_type": "markdown",
      "source": [
        "#05 Working with 2 list"
      ],
      "metadata": {
        "id": "J6aRQrxw5yJ_"
      }
    },
    {
      "cell_type": "code",
      "source": [
        "# # don't do this\n",
        "# countries = [\"India\", \"England\", \"Germany\", \"Canada\"]\n",
        "# capitals = [\"New Delhi\", \"London\", \"Berlin\", \"Ottawa\"]\n",
        "# i = 0\n",
        "# for country in countries:\n",
        "#   print(i+1, country , \"'s capital is called\", capitals[i])\n",
        "#   i += 1\n",
        "\n",
        "# # don't do this either because its not very intutive\n",
        "# countries = [\"India\", \"England\", \"Germany\", \"Canada\"]\n",
        "# capitals = [\"New Delhi\", \"London\", \"Berlin\", \"Ottawa\"]\n",
        "# for i, country in enumerate(countries, start=1):\n",
        "#     print(i, country , \"'s capital is called\", capitals[i-1])\n",
        "\n",
        "# countries = [\"India\", \"England\", \"Germany\", \"Canada\"]\n",
        "# capitals = [\"New Delhi\", \"London\", \"Berlin\", \"Ottawa\"]\n",
        "\n",
        "# for i, cc in enumerate(zip(countries, capitals), start=1):\n",
        "#  print(i, cc[0] , \"'s capital is called\", cc[1])\n",
        "\n",
        "\n",
        "\n",
        "# you an zip and unpack as many list as you want\n",
        "countries = [\"India\", \"England\", \"Germany\", \"Canada\"]\n",
        "capitals = [\"New Delhi\", \"London\", \"Berlin\", \"Ottawa\"]\n",
        "foods = [\"Tandoori\", \"Tea\", \"Wurst\", \"Burger\"]\n",
        "for i, cc in enumerate(zip(countries, capitals, foods), start=1):\n",
        "    print(i, cc[0] , \"'s capital is called\", cc[1], \"and they most eat\", cc[2])"
      ],
      "metadata": {
        "colab": {
          "base_uri": "https://localhost:8080/"
        },
        "id": "cF_CHsst5Byy",
        "outputId": "ed7fcbfb-cf9a-46ec-c838-9d2ee3629cff"
      },
      "execution_count": null,
      "outputs": [
        {
          "output_type": "stream",
          "name": "stdout",
          "text": [
            "1 India 's capital is called New Delhi and they most eat Tandoori\n",
            "2 England 's capital is called London and they most eat Tea\n",
            "3 Germany 's capital is called Berlin and they most eat Wurst\n",
            "4 Canada 's capital is called Ottawa and they most eat Burger\n"
          ]
        }
      ]
    },
    {
      "cell_type": "markdown",
      "source": [
        "#06 Unpacking"
      ],
      "metadata": {
        "id": "Q1FoY5-99EaU"
      }
    },
    {
      "cell_type": "code",
      "source": [
        "# a, b = (1, 2)\n",
        "\n",
        "a, b, *c, d = (1, 2, 3, 4, 5)\n",
        "\n",
        "print(a, b, d)\n",
        "print(c)"
      ],
      "metadata": {
        "colab": {
          "base_uri": "https://localhost:8080/"
        },
        "id": "4qdXRgQZ8Ukn",
        "outputId": "5abfa54a-57b6-44ba-deb1-b23f135634e2"
      },
      "execution_count": null,
      "outputs": [
        {
          "output_type": "stream",
          "name": "stdout",
          "text": [
            "1 2 5\n",
            "[3, 4]\n"
          ]
        }
      ]
    },
    {
      "cell_type": "markdown",
      "source": [
        "#07 getting passwords"
      ],
      "metadata": {
        "id": "qh0o-fMH-LnL"
      }
    },
    {
      "cell_type": "code",
      "source": [
        "# # dont do this\n",
        "# uname = input(\"Uname: \")\n",
        "# password = input(\"Password: \")\n",
        "\n",
        "from getpass import getpass\n",
        "uname = input(\"Uname: \")\n",
        "password = getpass(\"Password: \")\n",
        "print(\"Welcome back\", uname)\n"
      ],
      "metadata": {
        "colab": {
          "base_uri": "https://localhost:8080/"
        },
        "id": "YuK6yD-y-NSo",
        "outputId": "1e316a4d-9efa-4293-9faf-f6b4a4048942"
      },
      "execution_count": null,
      "outputs": [
        {
          "output_type": "stream",
          "name": "stdout",
          "text": [
            "Uname: GKV\n",
            "Password: ··········\n",
            "Welcome back GKV\n"
          ]
        }
      ]
    },
    {
      "cell_type": "markdown",
      "source": [
        "# 08 Function arguments"
      ],
      "metadata": {
        "id": "FSFTOZeU-3hM"
      }
    },
    {
      "cell_type": "code",
      "source": [
        "# don't do this\n",
        "def myFunction(a1, a2, a3, a4, a5, a6=123, a7=343):\n",
        "  print(a1, a2, a3, a4, a5, a6, a7)\n",
        "\n",
        "# myFunction(\"India\", \"Canada\", \"USA\", \"China\", \"Germany\")\n",
        "\n",
        "\n",
        "inputs = {\n",
        "    \"a1\": \"India\",\n",
        "    \"a2\": \"China\",\n",
        "    \"a3\": \"Canada\",\n",
        "    \"a4\": \"USA\",\n",
        "    \"a5\": \"Germany\",\n",
        "    \"a6\": \"England\",\n",
        "    \"a7\": \"France\",\n",
        "}\n",
        "\n"
      ],
      "metadata": {
        "id": "7AVAl-N4-YSU"
      },
      "execution_count": null,
      "outputs": []
    },
    {
      "cell_type": "code",
      "source": [
        "myFunction(**inputs)"
      ],
      "metadata": {
        "id": "yYug8H5d_e0r",
        "colab": {
          "base_uri": "https://localhost:8080/"
        },
        "outputId": "0d09c8d2-8e66-4bde-9cff-e2df94867a5a"
      },
      "execution_count": null,
      "outputs": [
        {
          "output_type": "stream",
          "name": "stdout",
          "text": [
            "India China Canada USA Germany England France\n"
          ]
        }
      ]
    },
    {
      "cell_type": "code",
      "source": [],
      "metadata": {
        "id": "g1ws7fT0_Dy-"
      },
      "execution_count": null,
      "outputs": []
    },
    {
      "cell_type": "code",
      "source": [],
      "metadata": {
        "id": "FUqmQ92L-SNO"
      },
      "execution_count": null,
      "outputs": []
    },
    {
      "cell_type": "code",
      "source": [],
      "metadata": {
        "id": "gVKLjua143KA"
      },
      "execution_count": null,
      "outputs": []
    }
  ]
}